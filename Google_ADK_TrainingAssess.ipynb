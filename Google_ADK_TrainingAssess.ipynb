{
  "nbformat": 4,
  "nbformat_minor": 0,
  "metadata": {
    "colab": {
      "provenance": [],
      "authorship_tag": "ABX9TyOuea0q20rIMiBwAuw3XGN3",
      "include_colab_link": true
    },
    "kernelspec": {
      "name": "python3",
      "display_name": "Python 3"
    },
    "language_info": {
      "name": "python"
    }
  },
  "cells": [
    {
      "cell_type": "markdown",
      "metadata": {
        "id": "view-in-github",
        "colab_type": "text"
      },
      "source": [
        "<a href=\"https://colab.research.google.com/github/velusrinathmr/agenticai/blob/main/Google_ADK_TrainingAssess.ipynb\" target=\"_parent\"><img src=\"https://colab.research.google.com/assets/colab-badge.svg\" alt=\"Open In Colab\"/></a>"
      ]
    },
    {
      "cell_type": "markdown",
      "source": [
        "# Installation of Google ADK and other dependencies"
      ],
      "metadata": {
        "id": "4yDKxjMSg0JT"
      }
    },
    {
      "cell_type": "code",
      "execution_count": 1,
      "metadata": {
        "colab": {
          "base_uri": "https://localhost:8080/"
        },
        "id": "KP-KhozIca5l",
        "outputId": "c6541272-4caa-4ce0-ac5e-d3b991007c08"
      },
      "outputs": [
        {
          "output_type": "stream",
          "name": "stdout",
          "text": [
            "\u001b[?25l   \u001b[90m━━━━━━━━━━━━━━━━━━━━━━━━━━━━━━━━━━━━━━━━\u001b[0m \u001b[32m0.0/1.2 MB\u001b[0m \u001b[31m?\u001b[0m eta \u001b[36m-:--:--\u001b[0m\r\u001b[2K   \u001b[91m━━━━━━━━━━━━━━━━\u001b[0m\u001b[91m╸\u001b[0m\u001b[90m━━━━━━━━━━━━━━━━━━━━━━━\u001b[0m \u001b[32m0.5/1.2 MB\u001b[0m \u001b[31m15.1 MB/s\u001b[0m eta \u001b[36m0:00:01\u001b[0m\r\u001b[2K   \u001b[91m━━━━━━━━━━━━━━━━━━━━━━━━━━━━━━━━━━━━━━━\u001b[0m\u001b[91m╸\u001b[0m \u001b[32m1.2/1.2 MB\u001b[0m \u001b[31m25.9 MB/s\u001b[0m eta \u001b[36m0:00:01\u001b[0m\r\u001b[2K   \u001b[90m━━━━━━━━━━━━━━━━━━━━━━━━━━━━━━━━━━━━━━━━\u001b[0m \u001b[32m1.2/1.2 MB\u001b[0m \u001b[31m15.6 MB/s\u001b[0m eta \u001b[36m0:00:00\u001b[0m\n",
            "\u001b[?25h\u001b[?25l   \u001b[90m━━━━━━━━━━━━━━━━━━━━━━━━━━━━━━━━━━━━━━━━\u001b[0m \u001b[32m0.0/240.0 kB\u001b[0m \u001b[31m?\u001b[0m eta \u001b[36m-:--:--\u001b[0m\r\u001b[2K   \u001b[90m━━━━━━━━━━━━━━━━━━━━━━━━━━━━━━━━━━━━━━━━\u001b[0m \u001b[32m240.0/240.0 kB\u001b[0m \u001b[31m15.4 MB/s\u001b[0m eta \u001b[36m0:00:00\u001b[0m\n",
            "\u001b[2K   \u001b[90m━━━━━━━━━━━━━━━━━━━━━━━━━━━━━━━━━━━━━━━━\u001b[0m \u001b[32m217.1/217.1 kB\u001b[0m \u001b[31m15.5 MB/s\u001b[0m eta \u001b[36m0:00:00\u001b[0m\n",
            "\u001b[2K   \u001b[90m━━━━━━━━━━━━━━━━━━━━━━━━━━━━━━━━━━━━━━━━\u001b[0m \u001b[32m334.1/334.1 kB\u001b[0m \u001b[31m18.9 MB/s\u001b[0m eta \u001b[36m0:00:00\u001b[0m\n",
            "\u001b[2K   \u001b[90m━━━━━━━━━━━━━━━━━━━━━━━━━━━━━━━━━━━━━━━━\u001b[0m \u001b[32m131.1/131.1 kB\u001b[0m \u001b[31m8.8 MB/s\u001b[0m eta \u001b[36m0:00:00\u001b[0m\n",
            "\u001b[2K   \u001b[90m━━━━━━━━━━━━━━━━━━━━━━━━━━━━━━━━━━━━━━━━\u001b[0m \u001b[32m65.8/65.8 kB\u001b[0m \u001b[31m3.5 MB/s\u001b[0m eta \u001b[36m0:00:00\u001b[0m\n",
            "\u001b[2K   \u001b[90m━━━━━━━━━━━━━━━━━━━━━━━━━━━━━━━━━━━━━━━━\u001b[0m \u001b[32m119.0/119.0 kB\u001b[0m \u001b[31m6.2 MB/s\u001b[0m eta \u001b[36m0:00:00\u001b[0m\n",
            "\u001b[2K   \u001b[90m━━━━━━━━━━━━━━━━━━━━━━━━━━━━━━━━━━━━━━━━\u001b[0m \u001b[32m194.9/194.9 kB\u001b[0m \u001b[31m12.7 MB/s\u001b[0m eta \u001b[36m0:00:00\u001b[0m\n",
            "\u001b[2K   \u001b[90m━━━━━━━━━━━━━━━━━━━━━━━━━━━━━━━━━━━━━━━━\u001b[0m \u001b[32m103.3/103.3 kB\u001b[0m \u001b[31m5.5 MB/s\u001b[0m eta \u001b[36m0:00:00\u001b[0m\n",
            "\u001b[2K   \u001b[90m━━━━━━━━━━━━━━━━━━━━━━━━━━━━━━━━━━━━━━━━\u001b[0m \u001b[32m44.4/44.4 kB\u001b[0m \u001b[31m2.8 MB/s\u001b[0m eta \u001b[36m0:00:00\u001b[0m\n",
            "\u001b[?25h"
          ]
        }
      ],
      "source": [
        "pip install google-adk -q"
      ]
    },
    {
      "cell_type": "markdown",
      "source": [
        "# ENV variables"
      ],
      "metadata": {
        "id": "wBlXa3xAnHmd"
      }
    },
    {
      "cell_type": "markdown",
      "source": [
        "## Imports"
      ],
      "metadata": {
        "id": "kh19JVOhe5xS"
      }
    },
    {
      "cell_type": "code",
      "source": [
        "import os"
      ],
      "metadata": {
        "id": "_GaKLTazea1T"
      },
      "execution_count": 7,
      "outputs": []
    },
    {
      "cell_type": "markdown",
      "source": [
        "## Env variable allocation"
      ],
      "metadata": {
        "id": "ktnuhWwye7bh"
      }
    },
    {
      "cell_type": "code",
      "source": [
        "from google.colab import userdata\n",
        "try:\n",
        "    GOOGLE_API_KEY = userdata.get('GOOGLE_API_KEY')\n",
        "    os.environ[\"GOOGLE_API_KEY\"] = GOOGLE_API_KEY\n",
        "except:\n",
        "  print(\"No Google API Key found\")\n",
        "  GOOGLE_API_KEY = input(\"Enter Google API Key manually\")"
      ],
      "metadata": {
        "id": "K8Yqw_fGdVFb"
      },
      "execution_count": 8,
      "outputs": []
    },
    {
      "cell_type": "code",
      "source": [
        "GOOGLE_GENAI_USE_VERTEXAI = \"FALSE\""
      ],
      "metadata": {
        "id": "c2qkyk4Ub58b"
      },
      "execution_count": 9,
      "outputs": []
    },
    {
      "cell_type": "markdown",
      "source": [
        "# Agent Development"
      ],
      "metadata": {
        "id": "eGuZwSqykWgV"
      }
    },
    {
      "cell_type": "markdown",
      "source": [
        "## Imports"
      ],
      "metadata": {
        "id": "5uy1vWTZe-6K"
      }
    },
    {
      "cell_type": "code",
      "source": [
        "from google.adk.agents import Agent"
      ],
      "metadata": {
        "id": "2n_Ev66tkOFP"
      },
      "execution_count": 10,
      "outputs": []
    },
    {
      "cell_type": "markdown",
      "source": [
        "## Agent creation"
      ],
      "metadata": {
        "id": "to9i_7f7fGW7"
      }
    },
    {
      "cell_type": "code",
      "source": [
        "llm_model = \"gemini-1.5-flash\""
      ],
      "metadata": {
        "id": "PYXS6B2uepyo"
      },
      "execution_count": 11,
      "outputs": []
    },
    {
      "cell_type": "code",
      "source": [
        "travel_agent = Agent(\n",
        "    name = 'travel_planner_agent',\n",
        "    model = llm_model,\n",
        "    description = 'Agent to plan for travel to different destinations',\n",
        "    instruction = \"\"\"\n",
        "    You are a helpful assistant that plans for travel to different destinations.\n",
        "    You will make a plan based on the name of the place and number of days provided by user and make plans accordingly.\n",
        "    \"\"\",\n",
        ")"
      ],
      "metadata": {
        "id": "rvrp8_13nVtW"
      },
      "execution_count": 13,
      "outputs": []
    },
    {
      "cell_type": "markdown",
      "source": [
        "# Session and Runner setup"
      ],
      "metadata": {
        "id": "q2myDmsplA-i"
      }
    },
    {
      "cell_type": "markdown",
      "source": [
        "## Session setup"
      ],
      "metadata": {
        "id": "vsd7IwWFlub-"
      }
    },
    {
      "cell_type": "code",
      "source": [
        "from google.adk.sessions import InMemorySessionService"
      ],
      "metadata": {
        "id": "hUT4hJ_9lfb3"
      },
      "execution_count": 29,
      "outputs": []
    },
    {
      "cell_type": "code",
      "source": [
        "APP_NAME=\"travel_planner_app\"\n",
        "USER_ID=\"user_1\"\n",
        "SESSION_ID=\"session_001\""
      ],
      "metadata": {
        "id": "5DOJA1LtlDow"
      },
      "execution_count": 30,
      "outputs": []
    },
    {
      "cell_type": "code",
      "source": [
        "session_service=InMemorySessionService()\n",
        "\n",
        "session = await session_service.create_session(\n",
        "    app_name=APP_NAME,\n",
        "    user_id=USER_ID,\n",
        "    session_id=SESSION_ID,\n",
        ")"
      ],
      "metadata": {
        "id": "9FyoYSL9lORB"
      },
      "execution_count": 38,
      "outputs": []
    },
    {
      "cell_type": "markdown",
      "source": [
        "## Runner setup"
      ],
      "metadata": {
        "id": "9KT4z38XlwL3"
      }
    },
    {
      "cell_type": "code",
      "source": [
        "from google.adk.runners import Runner"
      ],
      "metadata": {
        "id": "oq-0P4L2lzkI"
      },
      "execution_count": 31,
      "outputs": []
    },
    {
      "cell_type": "code",
      "source": [
        "runner=Runner(\n",
        "    agent=travel_agent,\n",
        "    app_name=APP_NAME,\n",
        "    session_service=session_service\n",
        ")"
      ],
      "metadata": {
        "id": "YyazHiVNlyAd"
      },
      "execution_count": 39,
      "outputs": []
    },
    {
      "cell_type": "markdown",
      "source": [
        "# Testing Agent Interaction"
      ],
      "metadata": {
        "id": "NndmZae1l8Me"
      }
    },
    {
      "cell_type": "code",
      "source": [
        "import asyncio\n",
        "from google.genai import types"
      ],
      "metadata": {
        "id": "K6ios4XXpSxJ"
      },
      "execution_count": 42,
      "outputs": []
    },
    {
      "cell_type": "code",
      "source": [
        "prompt = \"Plan a trip to Paris for 5 days\"\n",
        "\n",
        "content = types.Content(role='user', parts=[types.Part(text=prompt)])\n",
        "\n",
        "async def process_response():\n",
        "    async for event in runner.run_async(user_id=USER_ID, session_id=SESSION_ID, new_message=content):\n",
        "        if event.is_final_response():\n",
        "            if event.content and event.content.parts:\n",
        "                global final_response_text\n",
        "                final_response_text = event.content.parts[0].text\n",
        "\n",
        "await process_response()\n"
      ],
      "metadata": {
        "id": "eZlCf8fXmBuY"
      },
      "execution_count": 44,
      "outputs": []
    },
    {
      "cell_type": "code",
      "source": [
        "from IPython.display import display, Markdown\n",
        "\n",
        "display(Markdown(final_response_text))"
      ],
      "metadata": {
        "colab": {
          "base_uri": "https://localhost:8080/",
          "height": 715
        },
        "id": "Gss1BQcwrk29",
        "outputId": "045a6485-ecc0-453a-c8a2-fb44edf49112"
      },
      "execution_count": 46,
      "outputs": [
        {
          "output_type": "display_data",
          "data": {
            "text/plain": [
              "<IPython.core.display.Markdown object>"
            ],
            "text/markdown": "Okay, here's a possible 5-day itinerary for a trip to Paris:\n\n**Day 1: Iconic Paris & Charming Montmartre**\n\n* **Morning:** Arrive in Paris, check into your hotel, and head straight to the Eiffel Tower. Pre-book your tickets to avoid long queues and ascend for breathtaking panoramic views of the city.\n* **Afternoon:** Take a leisurely stroll along the Champs-Élysées, window shopping at luxury boutiques or indulging in some Parisian pastries.\n* **Evening:** Explore the artistic neighborhood of Montmartre. Visit the Sacré-Cœur Basilica for stunning city views, wander through the Place du Tertre where artists showcase their work, and enjoy dinner at a traditional French bistro.\n\n**Day 2: Louvre Masterpieces & Tuileries Garden**\n\n* **Morning:** Dedicate the morning to the Louvre Museum.  Pre-booking tickets is essential. Focus on key masterpieces like the Mona Lisa and Venus de Milo to manage your time effectively. Consider a guided tour to maximize your experience.\n* **Afternoon:** Relax and enjoy the beautiful Tuileries Garden, located between the Louvre and Place de la Concorde.  Take a boat ride on the Seine River for a different perspective of the city.\n* **Evening:** Enjoy a classic French dinner in the Saint-Germain-des-Prés district, known for its literary and artistic history.\n\n**Day 3: Palace of Versailles & Parisian Charm**\n\n* **Morning:** Take a day trip to the Palace of Versailles, the opulent former residence of French royalty. Allow ample time to explore the palace, gardens, and Marie Antoinette's Estate. Consider a guided tour to learn about its rich history.\n* **Afternoon:** Upon returning to Paris, explore the Latin Quarter, known for its student vibe and historic Sorbonne University. Browse the Shakespeare and Company bookstore and enjoy the lively atmosphere.\n* **Evening:** Indulge in a delicious dinner in the Latin Quarter, trying traditional French cuisine or exploring international options.\n\n**Day 4: Museums & River Cruise**\n\n* **Morning:** Choose a museum based on your interests. Options include the Musée d'Orsay (Impressionist art), Centre Pompidou (modern art), or the Musée Rodin (sculptures).\n* **Afternoon:** Take a relaxing Seine River cruise. This offers a unique perspective of the city's iconic landmarks and bridges.\n* **Evening:** Enjoy a final Parisian dinner, perhaps trying a different culinary experience, like a crêperie or a traditional French brasserie.\n\n**Day 5: Departure**\n\n* **Morning:** Depending on your flight time, you might have time for some last-minute souvenir shopping or a final Parisian breakfast.  Check out of your hotel and head to the airport for your departure.\n\n\n**Important Considerations:**\n\n* **Transportation:** The Paris Metro is efficient and cost-effective. Consider purchasing a Navigo Découverte pass for unlimited travel within zones.\n* **Accommodation:** Book your hotel in advance, especially during peak season. Consider locations near major attractions or with good metro access.\n* **Food:** Paris offers a diverse culinary scene.  From Michelin-starred restaurants to casual bistros and crêperies, there's something for every taste and budget.\n* **Tickets:** Pre-book tickets for major attractions to avoid long queues and secure your entry.\n\n\nThis is just a suggestion, of course.  You can customize it based on your interests and preferences.  For example, if you're a huge art lover, you could spend more time in museums. If you prefer a slower pace, you could eliminate a day trip and spend more time exploring specific neighborhoods.  Let me know if you'd like me to adjust this based on your specific interests!\n"
          },
          "metadata": {}
        }
      ]
    }
  ]
}