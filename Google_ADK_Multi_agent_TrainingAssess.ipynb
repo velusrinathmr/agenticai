{
  "nbformat": 4,
  "nbformat_minor": 0,
  "metadata": {
    "colab": {
      "provenance": [],
      "toc_visible": true,
      "authorship_tag": "ABX9TyNPw1xUcx9WHkep74KWOzfD",
      "include_colab_link": true
    },
    "kernelspec": {
      "name": "python3",
      "display_name": "Python 3"
    },
    "language_info": {
      "name": "python"
    }
  },
  "cells": [
    {
      "cell_type": "markdown",
      "metadata": {
        "id": "view-in-github",
        "colab_type": "text"
      },
      "source": [
        "<a href=\"https://colab.research.google.com/github/velusrinathmr/agenticai/blob/main/Google_ADK_Multi_agent_TrainingAssess.ipynb\" target=\"_parent\"><img src=\"https://colab.research.google.com/assets/colab-badge.svg\" alt=\"Open In Colab\"/></a>"
      ]
    },
    {
      "cell_type": "markdown",
      "source": [
        "# Installation of Google ADK and other dependencies"
      ],
      "metadata": {
        "id": "4yDKxjMSg0JT"
      }
    },
    {
      "cell_type": "code",
      "execution_count": 1,
      "metadata": {
        "id": "KP-KhozIca5l"
      },
      "outputs": [],
      "source": [
        "pip install google-adk -q"
      ]
    },
    {
      "cell_type": "markdown",
      "source": [
        "# ENV variables"
      ],
      "metadata": {
        "id": "wBlXa3xAnHmd"
      }
    },
    {
      "cell_type": "markdown",
      "source": [
        "## Imports"
      ],
      "metadata": {
        "id": "kh19JVOhe5xS"
      }
    },
    {
      "cell_type": "code",
      "source": [
        "import os"
      ],
      "metadata": {
        "id": "_GaKLTazea1T"
      },
      "execution_count": 2,
      "outputs": []
    },
    {
      "cell_type": "markdown",
      "source": [
        "## Env variable allocation"
      ],
      "metadata": {
        "id": "ktnuhWwye7bh"
      }
    },
    {
      "cell_type": "code",
      "source": [
        "from google.colab import userdata\n",
        "try:\n",
        "    GOOGLE_API_KEY = userdata.get('GOOGLE_API_KEY')\n",
        "    os.environ[\"GOOGLE_API_KEY\"] = GOOGLE_API_KEY\n",
        "except:\n",
        "  print(\"No Google API Key found\")\n",
        "  GOOGLE_API_KEY = input(\"Enter Google API Key manually\")"
      ],
      "metadata": {
        "id": "K8Yqw_fGdVFb"
      },
      "execution_count": 3,
      "outputs": []
    },
    {
      "cell_type": "code",
      "source": [
        "GOOGLE_GENAI_USE_VERTEXAI = \"FALSE\""
      ],
      "metadata": {
        "id": "c2qkyk4Ub58b"
      },
      "execution_count": 4,
      "outputs": []
    },
    {
      "cell_type": "markdown",
      "source": [
        "# Agent Development"
      ],
      "metadata": {
        "id": "eGuZwSqykWgV"
      }
    },
    {
      "cell_type": "markdown",
      "source": [
        "## Imports"
      ],
      "metadata": {
        "id": "5uy1vWTZe-6K"
      }
    },
    {
      "cell_type": "code",
      "source": [
        "from google.adk.agents import Agent, LlmAgent, LoopAgent, SequentialAgent"
      ],
      "metadata": {
        "id": "2n_Ev66tkOFP"
      },
      "execution_count": 5,
      "outputs": []
    },
    {
      "cell_type": "markdown",
      "source": [
        "## Tools creation"
      ],
      "metadata": {
        "id": "LL6DsCmo0kMM"
      }
    },
    {
      "cell_type": "markdown",
      "source": [
        "### Flight search tool"
      ],
      "metadata": {
        "id": "jTHra4L-2olr"
      }
    },
    {
      "cell_type": "code",
      "source": [
        "def search_flights(destination: str):\n",
        "\n",
        "    flights = []\n",
        "\n",
        "    if \"london\" in destination.lower():\n",
        "        flights.append({\"airline\": \"AirIndia\", \"price\": 25000, \"departure_time\": \"08:00\", \"arrival_time\": \"23:30\"})\n",
        "        flights.append({\"airline\": \"Swiss Airlines\", \"price\": 60000, \"departure_time\": \"10:00\", \"arrival_time\": \"03:45\"})\n",
        "    elif \"new york\" in destination.lower():\n",
        "        flights.append({\"airline\": \"Air India\", \"price\": 45000, \"departure_time\": \"09:00\", \"arrival_time\": \"01:00\"})\n",
        "        flights.append({\"airline\": \"Qatar Airways\", \"price\": 50000, \"departure_time\": \"11:00\", \"arrival_time\": \"07:30\"})\n",
        "    else:\n",
        "        flights.append({\"airline\": \"Emirates\", \"price\": 30000, \"departure_time\": \"07:00\", \"arrival_time\": \"12:00\"})\n",
        "    return flights"
      ],
      "metadata": {
        "id": "m--uaduD0l6i"
      },
      "execution_count": 6,
      "outputs": []
    },
    {
      "cell_type": "markdown",
      "source": [
        "### Hotel search tool"
      ],
      "metadata": {
        "id": "aShwbN1R2r5K"
      }
    },
    {
      "cell_type": "code",
      "source": [
        "def google_hotels(location: str, check_in_date: str, check_out_date: str, min_stars: int = 3):\n",
        "\n",
        "    hotels = []\n",
        "\n",
        "    if \"london\" in location.lower():\n",
        "        hotels.append({\"name\": \"Grand Stay Inn\", \"price_per_night\": 150, \"stars\": 4, \"amenities\": [\"Wifi\", \"Breakfast\"]})\n",
        "        hotels.append({\"name\": \"Budget Lodge\", \"price_per_night\": 80, \"stars\": 3, \"amenities\": [\"Wifi\"]})\n",
        "    elif \"new york\" in location.lower():\n",
        "        hotels.append({\"name\": \"City View Suites\", \"price_per_night\": 250, \"stars\": 4.5, \"amenities\": [\"Wifi\", \"Gym\", \"Pool\"]})\n",
        "        hotels.append({\"name\": \"Downtown Hostel\", \"price_per_night\": 70, \"stars\": 2.5, \"amenities\": [\"Shared Kitchen\"]})\n",
        "    else:\n",
        "        hotels.append({\"name\": \"Cozy Cottage\", \"price_per_night\": 120, \"stars\": 4, \"amenities\": [\"Wifi\", \"Parking\"]})\n",
        "    return hotels"
      ],
      "metadata": {
        "id": "H_pA8IMh2uL_"
      },
      "execution_count": 7,
      "outputs": []
    },
    {
      "cell_type": "markdown",
      "source": [
        "### Activites search"
      ],
      "metadata": {
        "id": "fBEIpiGk3El0"
      }
    },
    {
      "cell_type": "code",
      "source": [
        "def search_activities(location, interests):\n",
        "\n",
        "    activities = []\n",
        "\n",
        "    if \"london\" in location.lower():\n",
        "        activities.append({\"name\": \"British Museum Tour\", \"type\": \"Culture\", \"price\": 0})\n",
        "        activities.append({\"name\": \"Thames River Cruise\", \"type\": \"Sightseeing\", \"price\": 30})\n",
        "        if interests and \"food\" in [i.lower() for i in interests]:\n",
        "            activities.append({\"name\": \"Borough Market Food Tour\", \"type\": \"Food\", \"price\": 75})\n",
        "    elif \"new york\" in location.lower():\n",
        "        activities.append({\"name\": \"Central Park Bike Rental\", \"type\": \"Outdoors\", \"price\": 25})\n",
        "        activities.append({\"name\": \"Broadway Show Tickets\", \"type\": \"Entertainment\", \"price\": 120})\n",
        "    else:\n",
        "        activities.append({\"name\": \"Central Park\", \"type\": \"Outdoors\", \"price\": 25})\n",
        "    return activities"
      ],
      "metadata": {
        "id": "YF0DyVeP3GWh"
      },
      "execution_count": 8,
      "outputs": []
    },
    {
      "cell_type": "markdown",
      "source": [
        "## Agent creation"
      ],
      "metadata": {
        "id": "to9i_7f7fGW7"
      }
    },
    {
      "cell_type": "code",
      "source": [
        "llm_model = \"gemini-1.5-flash\""
      ],
      "metadata": {
        "id": "PYXS6B2uepyo"
      },
      "execution_count": 9,
      "outputs": []
    },
    {
      "cell_type": "code",
      "source": [
        "flight_agent = LlmAgent(\n",
        "    name=\"FlightAgent\",\n",
        "    model=llm_model,\n",
        "    description=\"An agent specialized in finding flight information.\",\n",
        "    instruction=(\n",
        "        \"You are an expert in finding flights. Use the 'search_flights' tool to find flight options. \"\n",
        "        \"Always ask for destination, and departure date. If return date is missing for a round trip, ask for it. \"\n",
        "        \"Present flight options clearly, including airline, price, and times.\"\n",
        "        \"you will only use search_flights tool to look for flights.\"\n",
        "    ),\n",
        "    tools=[search_flights],\n",
        ")"
      ],
      "metadata": {
        "id": "rvrp8_13nVtW"
      },
      "execution_count": 10,
      "outputs": []
    },
    {
      "cell_type": "code",
      "source": [
        "hotel_agent = LlmAgent(\n",
        "    name=\"HotelAgent\",\n",
        "    model=llm_model,\n",
        "    description=\"An agent specialized in finding hotel accommodations.\",\n",
        "    instruction=\"You are an expert in finding hotels. You will only use the 'google_hotels' tool to find hotel options.\",\n",
        "    tools=[google_hotels],\n",
        ")"
      ],
      "metadata": {
        "id": "efoFW5BS3xMz"
      },
      "execution_count": 11,
      "outputs": []
    },
    {
      "cell_type": "code",
      "source": [
        "activity_agent = LlmAgent(\n",
        "    name=\"ActivityAgent\",\n",
        "    model=llm_model,\n",
        "    description=\"An agent specialized in suggesting activities and attractions.\",\n",
        "    instruction=\"you will only use 'search_activities' tool to suggest local activities.\",\n",
        "    tools=[search_activities],\n",
        ")"
      ],
      "metadata": {
        "id": "EGFkAmJI31ti"
      },
      "execution_count": 12,
      "outputs": []
    },
    {
      "cell_type": "code",
      "source": [
        "travel_coordinator = LlmAgent(\n",
        "    name=\"TravelCoordinatorAgent\",\n",
        "    model=llm_model,\n",
        "    description=\"Main coordinator for travel planning tasks.\",\n",
        "    instruction=(\n",
        "        \"Understand user travel goals and coordinate sub-agents (FlightAgent, HotelAgent, ActivityAgent). \"\n",
        "        \"You can also ask for user's name and date details to ensure accurate information.\"\n",
        "    ),\n",
        "    sub_agents=[flight_agent, hotel_agent, activity_agent],\n",
        ")"
      ],
      "metadata": {
        "id": "dwhdWvJO36bx"
      },
      "execution_count": 13,
      "outputs": []
    },
    {
      "cell_type": "markdown",
      "source": [
        "# Session and Runner setup"
      ],
      "metadata": {
        "id": "q2myDmsplA-i"
      }
    },
    {
      "cell_type": "markdown",
      "source": [
        "## Session setup"
      ],
      "metadata": {
        "id": "vsd7IwWFlub-"
      }
    },
    {
      "cell_type": "code",
      "source": [
        "from google.adk.sessions import InMemorySessionService"
      ],
      "metadata": {
        "id": "hUT4hJ_9lfb3"
      },
      "execution_count": 14,
      "outputs": []
    },
    {
      "cell_type": "code",
      "source": [
        "APP_NAME=\"travel_planner_app\"\n",
        "USER_ID=\"user_1\"\n",
        "SESSION_ID=\"session_001\""
      ],
      "metadata": {
        "id": "5DOJA1LtlDow"
      },
      "execution_count": 15,
      "outputs": []
    },
    {
      "cell_type": "code",
      "source": [
        "session_service=InMemorySessionService()\n",
        "\n",
        "session = await session_service.create_session(\n",
        "    app_name=APP_NAME,\n",
        "    user_id=USER_ID,\n",
        "    session_id=SESSION_ID,\n",
        ")"
      ],
      "metadata": {
        "id": "9FyoYSL9lORB"
      },
      "execution_count": 16,
      "outputs": []
    },
    {
      "cell_type": "markdown",
      "source": [
        "## Runner setup"
      ],
      "metadata": {
        "id": "9KT4z38XlwL3"
      }
    },
    {
      "cell_type": "code",
      "source": [
        "from google.adk.runners import Runner"
      ],
      "metadata": {
        "id": "oq-0P4L2lzkI"
      },
      "execution_count": 17,
      "outputs": []
    },
    {
      "cell_type": "code",
      "source": [
        "runner=Runner(\n",
        "    agent=travel_coordinator,\n",
        "    app_name=APP_NAME,\n",
        "    session_service=session_service\n",
        ")"
      ],
      "metadata": {
        "id": "YyazHiVNlyAd"
      },
      "execution_count": 18,
      "outputs": []
    },
    {
      "cell_type": "markdown",
      "source": [
        "# Testing Agent Interaction"
      ],
      "metadata": {
        "id": "NndmZae1l8Me"
      }
    },
    {
      "cell_type": "code",
      "source": [
        "import asyncio\n",
        "from google.genai import types"
      ],
      "metadata": {
        "id": "K6ios4XXpSxJ"
      },
      "execution_count": 19,
      "outputs": []
    },
    {
      "cell_type": "code",
      "source": [
        "from IPython.display import display, Markdown"
      ],
      "metadata": {
        "id": "XnxlDIEkwjbu"
      },
      "execution_count": 20,
      "outputs": []
    },
    {
      "cell_type": "code",
      "source": [
        "prompt = \"Plan a trip to Paris for 5 days\"\n",
        "\n",
        "final_response_text = \"Agent did not produce a final response.\"\n",
        "\n",
        "\n",
        "\n",
        "async def process_response(prompt):\n",
        "\n",
        "    content = types.Content(role='user', parts=[types.Part(text=prompt)])\n",
        "\n",
        "    async for event in runner.run_async(user_id=USER_ID, session_id=SESSION_ID, new_message=content):\n",
        "        if event.is_final_response():\n",
        "            if event.content and event.content.parts:\n",
        "                global final_response_text\n",
        "                final_response_text = event.content.parts[0].text\n",
        "\n",
        "await process_response(prompt)\n",
        "\n",
        "display(Markdown(final_response_text))\n"
      ],
      "metadata": {
        "id": "eZlCf8fXmBuY",
        "colab": {
          "base_uri": "https://localhost:8080/",
          "height": 64
        },
        "outputId": "a78b5c0f-78b9-4617-e9c5-9d61a68f9fa6"
      },
      "execution_count": 21,
      "outputs": [
        {
          "output_type": "display_data",
          "data": {
            "text/plain": [
              "<IPython.core.display.Markdown object>"
            ],
            "text/markdown": "I can help with that!  To give you the best possible plan, could you please tell me your name and preferred travel dates?  Also, what is your budget and what kind of experiences are you interested in (e.g., museums, nightlife, food tours, etc.)?\n"
          },
          "metadata": {}
        }
      ]
    },
    {
      "cell_type": "code",
      "source": [
        "prompt = \"\"\"\n",
        "name - Velu\n",
        "Travel date - August 4,\n",
        "Budget - 100000 INR,\n",
        "Travel style - budget friendly,\n",
        "interests - nightlife,\n",
        "travel companions - none,\n",
        "\"\"\"\n",
        "\n",
        "final_response_text = \"Agent did not produce a final response.\"\n",
        "\n",
        "await process_response(prompt)\n",
        "\n",
        "display(Markdown(final_response_text))"
      ],
      "metadata": {
        "colab": {
          "base_uri": "https://localhost:8080/",
          "height": 84
        },
        "id": "l-FMBCqk6gJi",
        "outputId": "3521b4ce-1e1b-4571-dd01-4b40370a090f"
      },
      "execution_count": 22,
      "outputs": [
        {
          "output_type": "stream",
          "name": "stderr",
          "text": [
            "WARNING:google_genai.types:Warning: there are non-text parts in the response: ['function_call'], returning concatenated text result from text parts. Check the full candidates.content.parts accessor to get the full model response.\n"
          ]
        },
        {
          "output_type": "display_data",
          "data": {
            "text/plain": [
              "<IPython.core.display.Markdown object>"
            ],
            "text/markdown": "Where would you like to depart from and what is your return date?\n"
          },
          "metadata": {}
        }
      ]
    },
    {
      "cell_type": "code",
      "source": [
        "prompt = \"\"\"\n",
        "i will be departing from Mumbai and I would like to return after a week from my departure.\n",
        "prepare the travel plan with this information. you can skip remaining questions\n",
        "\"\"\"\n",
        "\n",
        "final_response_text = \"Agent did not produce a final response.\"\n",
        "\n",
        "await process_response(prompt)\n",
        "\n",
        "display(Markdown(final_response_text))"
      ],
      "metadata": {
        "colab": {
          "base_uri": "https://localhost:8080/",
          "height": 217
        },
        "id": "ZwMB4icZ_9B5",
        "outputId": "f208b73a-65f5-4c67-a4ec-82a2bc6c941a"
      },
      "execution_count": 23,
      "outputs": [
        {
          "output_type": "stream",
          "name": "stderr",
          "text": [
            "WARNING:google_genai.types:Warning: there are non-text parts in the response: ['function_call'], returning concatenated text result from text parts. Check the full candidates.content.parts accessor to get the full model response.\n"
          ]
        },
        {
          "output_type": "display_data",
          "data": {
            "text/plain": [
              "<IPython.core.display.Markdown object>"
            ],
            "text/markdown": "Here's a possible flight option based on your specifications:\n\n* **Airline:** Emirates\n* **Departure Time (Mumbai):** 7:00 AM\n* **Arrival Time (Paris):** 12:00 PM\n* **Price:** 30000 INR\n\nPlease note that this is just one example, and other options may be available depending on flight availability at the time of booking.  To proceed with booking, please provide your preferred dates and I can check for more options.  I will then pass this information to the HotelAgent to find suitable accommodations.\n"
          },
          "metadata": {}
        }
      ]
    }
  ]
}