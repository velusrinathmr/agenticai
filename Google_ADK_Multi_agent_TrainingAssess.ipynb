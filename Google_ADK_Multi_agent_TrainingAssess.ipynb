{
  "nbformat": 4,
  "nbformat_minor": 0,
  "metadata": {
    "colab": {
      "provenance": [],
      "toc_visible": true,
      "authorship_tag": "ABX9TyPvtM5AozgGH0eDi1aAlVj2",
      "include_colab_link": true
    },
    "kernelspec": {
      "name": "python3",
      "display_name": "Python 3"
    },
    "language_info": {
      "name": "python"
    }
  },
  "cells": [
    {
      "cell_type": "markdown",
      "metadata": {
        "id": "view-in-github",
        "colab_type": "text"
      },
      "source": [
        "<a href=\"https://colab.research.google.com/github/velusrinathmr/agenticai/blob/main/Google_ADK_Multi_agent_TrainingAssess.ipynb\" target=\"_parent\"><img src=\"https://colab.research.google.com/assets/colab-badge.svg\" alt=\"Open In Colab\"/></a>"
      ]
    },
    {
      "cell_type": "markdown",
      "source": [
        "# Installation of Google ADK and other dependencies"
      ],
      "metadata": {
        "id": "4yDKxjMSg0JT"
      }
    },
    {
      "cell_type": "code",
      "execution_count": 1,
      "metadata": {
        "id": "KP-KhozIca5l"
      },
      "outputs": [],
      "source": [
        "pip install google-adk -q"
      ]
    },
    {
      "cell_type": "markdown",
      "source": [
        "# ENV variables"
      ],
      "metadata": {
        "id": "wBlXa3xAnHmd"
      }
    },
    {
      "cell_type": "markdown",
      "source": [
        "## Imports"
      ],
      "metadata": {
        "id": "kh19JVOhe5xS"
      }
    },
    {
      "cell_type": "code",
      "source": [
        "import os"
      ],
      "metadata": {
        "id": "_GaKLTazea1T"
      },
      "execution_count": 2,
      "outputs": []
    },
    {
      "cell_type": "markdown",
      "source": [
        "## Env variable allocation"
      ],
      "metadata": {
        "id": "ktnuhWwye7bh"
      }
    },
    {
      "cell_type": "code",
      "source": [
        "from google.colab import userdata\n",
        "try:\n",
        "    GOOGLE_API_KEY = userdata.get('GOOGLE_API_KEY')\n",
        "    os.environ[\"GOOGLE_API_KEY\"] = GOOGLE_API_KEY\n",
        "except:\n",
        "  print(\"No Google API Key found\")\n",
        "  GOOGLE_API_KEY = input(\"Enter Google API Key manually\")"
      ],
      "metadata": {
        "id": "K8Yqw_fGdVFb"
      },
      "execution_count": 3,
      "outputs": []
    },
    {
      "cell_type": "code",
      "source": [
        "GOOGLE_GENAI_USE_VERTEXAI = \"FALSE\""
      ],
      "metadata": {
        "id": "c2qkyk4Ub58b"
      },
      "execution_count": 4,
      "outputs": []
    },
    {
      "cell_type": "markdown",
      "source": [
        "# Agent Development"
      ],
      "metadata": {
        "id": "eGuZwSqykWgV"
      }
    },
    {
      "cell_type": "markdown",
      "source": [
        "## Imports"
      ],
      "metadata": {
        "id": "5uy1vWTZe-6K"
      }
    },
    {
      "cell_type": "code",
      "source": [
        "from google.adk.agents import Agent, LlmAgent"
      ],
      "metadata": {
        "id": "2n_Ev66tkOFP"
      },
      "execution_count": 5,
      "outputs": []
    },
    {
      "cell_type": "markdown",
      "source": [
        "## Tools creation"
      ],
      "metadata": {
        "id": "LL6DsCmo0kMM"
      }
    },
    {
      "cell_type": "markdown",
      "source": [
        "### Flight search tool"
      ],
      "metadata": {
        "id": "jTHra4L-2olr"
      }
    },
    {
      "cell_type": "code",
      "source": [
        "def search_flights(origin: str, destination: str, departure_date: str, return_date: str = None):\n",
        "\n",
        "    flights = []\n",
        "\n",
        "    if \"london\" in destination.lower():\n",
        "        flights.append({\"airline\": \"AirIndia\", \"price\": 25000, \"departure_time\": \"08:00\", \"arrival_time\": \"23:30\"})\n",
        "        flights.append({\"airline\": \"Swiss Airlines\", \"price\": 60000, \"departure_time\": \"10:00\", \"arrival_time\": \"03:45\"})\n",
        "    elif \"new york\" in destination.lower():\n",
        "        flights.append({\"airline\": \"Air India\", \"price\": 45000, \"departure_time\": \"09:00\", \"arrival_time\": \"01:00\"})\n",
        "        flights.append({\"airline\": \"Qatar Airways\", \"price\": 50000, \"departure_time\": \"11:00\", \"arrival_time\": \"07:30\"})\n",
        "    else:\n",
        "        flights.append({\"airline\": \"Emirates\", \"price\": 30000, \"departure_time\": \"07:00\", \"arrival_time\": \"12:00\"})\n",
        "    return flights"
      ],
      "metadata": {
        "id": "m--uaduD0l6i"
      },
      "execution_count": 6,
      "outputs": []
    },
    {
      "cell_type": "markdown",
      "source": [
        "### Hotel search tool"
      ],
      "metadata": {
        "id": "aShwbN1R2r5K"
      }
    },
    {
      "cell_type": "code",
      "source": [
        "def google_hotels(location: str, check_in_date: str, check_out_date: str, min_stars: int = 3):\n",
        "\n",
        "    hotels = []\n",
        "\n",
        "    if \"london\" in location.lower():\n",
        "        hotels.append({\"name\": \"Grand Stay Inn\", \"price_per_night\": 150, \"stars\": 4, \"amenities\": [\"Wifi\", \"Breakfast\"]})\n",
        "        hotels.append({\"name\": \"Budget Lodge\", \"price_per_night\": 80, \"stars\": 3, \"amenities\": [\"Wifi\"]})\n",
        "    elif \"new york\" in location.lower():\n",
        "        hotels.append({\"name\": \"City View Suites\", \"price_per_night\": 250, \"stars\": 4.5, \"amenities\": [\"Wifi\", \"Gym\", \"Pool\"]})\n",
        "        hotels.append({\"name\": \"Downtown Hostel\", \"price_per_night\": 70, \"stars\": 2.5, \"amenities\": [\"Shared Kitchen\"]})\n",
        "    else:\n",
        "        hotels.append({\"name\": \"Cozy Cottage\", \"price_per_night\": 120, \"stars\": 4, \"amenities\": [\"Wifi\", \"Parking\"]})\n",
        "    return hotels"
      ],
      "metadata": {
        "id": "H_pA8IMh2uL_"
      },
      "execution_count": 7,
      "outputs": []
    },
    {
      "cell_type": "markdown",
      "source": [
        "### Activites search"
      ],
      "metadata": {
        "id": "fBEIpiGk3El0"
      }
    },
    {
      "cell_type": "code",
      "source": [
        "def search_activities(location, interests):\n",
        "\n",
        "    activities = []\n",
        "\n",
        "    if \"london\" in location.lower():\n",
        "        activities.append({\"name\": \"British Museum Tour\", \"type\": \"Culture\", \"price\": 0})\n",
        "        activities.append({\"name\": \"Thames River Cruise\", \"type\": \"Sightseeing\", \"price\": 30})\n",
        "        if interests and \"food\" in [i.lower() for i in interests]:\n",
        "            activities.append({\"name\": \"Borough Market Food Tour\", \"type\": \"Food\", \"price\": 75})\n",
        "    elif \"new york\" in location.lower():\n",
        "        activities.append({\"name\": \"Central Park Bike Rental\", \"type\": \"Outdoors\", \"price\": 25})\n",
        "        activities.append({\"name\": \"Broadway Show Tickets\", \"type\": \"Entertainment\", \"price\": 120})\n",
        "    else:\n",
        "        activities.append({\"name\": \"Central Park\", \"type\": \"Outdoors\", \"price\": 25})\n",
        "    return activities"
      ],
      "metadata": {
        "id": "YF0DyVeP3GWh"
      },
      "execution_count": 8,
      "outputs": []
    },
    {
      "cell_type": "markdown",
      "source": [
        "## Agent creation"
      ],
      "metadata": {
        "id": "to9i_7f7fGW7"
      }
    },
    {
      "cell_type": "code",
      "source": [
        "llm_model = \"gemini-1.5-flash\""
      ],
      "metadata": {
        "id": "PYXS6B2uepyo"
      },
      "execution_count": 62,
      "outputs": []
    },
    {
      "cell_type": "code",
      "source": [
        "flight_agent = LlmAgent(\n",
        "    name=\"FlightAgent\",\n",
        "    model=llm_model,\n",
        "    description=\"An agent specialized in finding flight information.\",\n",
        "    instruction=(\n",
        "        \"You are an expert in finding flights. Use the `search_flights` tool to find flight options. \"\n",
        "        \"Always ask for origin, destination, and departure date. If return date is missing for a round trip, ask for it. \"\n",
        "        \"Present flight options clearly, including airline, price, and times.\"\n",
        "    ),\n",
        "    tools=[search_flights],\n",
        ")"
      ],
      "metadata": {
        "id": "rvrp8_13nVtW"
      },
      "execution_count": 63,
      "outputs": []
    },
    {
      "cell_type": "code",
      "source": [
        "hotel_agent = LlmAgent(\n",
        "    name=\"HotelAgent\",\n",
        "    model=llm_model,\n",
        "    description=\"An agent specialized in finding hotel accommodations.\",\n",
        "    instruction=\"You are an expert in finding hotels. Use the `google_hotels` tool to find hotel options.\",\n",
        "    tools=[google_hotels],\n",
        ")"
      ],
      "metadata": {
        "id": "efoFW5BS3xMz"
      },
      "execution_count": 64,
      "outputs": []
    },
    {
      "cell_type": "code",
      "source": [
        "activity_agent = LlmAgent(\n",
        "    name=\"ActivityAgent\",\n",
        "    model=llm_model,\n",
        "    description=\"An agent specialized in suggesting activities and attractions.\",\n",
        "    instruction=\"Use `search_activities` to suggest local activities.\",\n",
        "    tools=[search_activities],\n",
        ")"
      ],
      "metadata": {
        "id": "EGFkAmJI31ti"
      },
      "execution_count": 65,
      "outputs": []
    },
    {
      "cell_type": "code",
      "source": [
        "travel_coordinator = LlmAgent(\n",
        "    name=\"TravelCoordinatorAgent\",\n",
        "    model=llm_model,\n",
        "    description=\"Main coordinator for travel planning tasks.\",\n",
        "    instruction=(\n",
        "        \"Understand user travel goals and coordinate sub-agents (FlightAgent, HotelAgent, ActivityAgent). \"\n",
        "        \"You can also ask for user's name and date details to ensure accurate information.\"\n",
        "    ),\n",
        "    sub_agents=[flight_agent, hotel_agent, activity_agent],\n",
        ")"
      ],
      "metadata": {
        "id": "dwhdWvJO36bx"
      },
      "execution_count": 66,
      "outputs": []
    },
    {
      "cell_type": "markdown",
      "source": [
        "# Session and Runner setup"
      ],
      "metadata": {
        "id": "q2myDmsplA-i"
      }
    },
    {
      "cell_type": "markdown",
      "source": [
        "## Session setup"
      ],
      "metadata": {
        "id": "vsd7IwWFlub-"
      }
    },
    {
      "cell_type": "code",
      "source": [
        "from google.adk.sessions import InMemorySessionService"
      ],
      "metadata": {
        "id": "hUT4hJ_9lfb3"
      },
      "execution_count": 14,
      "outputs": []
    },
    {
      "cell_type": "code",
      "source": [
        "APP_NAME=\"travel_planner_app\"\n",
        "USER_ID=\"user_1\"\n",
        "SESSION_ID=\"session_001\""
      ],
      "metadata": {
        "id": "5DOJA1LtlDow"
      },
      "execution_count": 15,
      "outputs": []
    },
    {
      "cell_type": "code",
      "source": [
        "session_service=InMemorySessionService()\n",
        "\n",
        "session = await session_service.create_session(\n",
        "    app_name=APP_NAME,\n",
        "    user_id=USER_ID,\n",
        "    session_id=SESSION_ID,\n",
        ")"
      ],
      "metadata": {
        "id": "9FyoYSL9lORB"
      },
      "execution_count": 16,
      "outputs": []
    },
    {
      "cell_type": "markdown",
      "source": [
        "## Runner setup"
      ],
      "metadata": {
        "id": "9KT4z38XlwL3"
      }
    },
    {
      "cell_type": "code",
      "source": [
        "from google.adk.runners import Runner"
      ],
      "metadata": {
        "id": "oq-0P4L2lzkI"
      },
      "execution_count": 17,
      "outputs": []
    },
    {
      "cell_type": "code",
      "source": [
        "runner=Runner(\n",
        "    agent=travel_coordinator,\n",
        "    app_name=APP_NAME,\n",
        "    session_service=session_service\n",
        ")"
      ],
      "metadata": {
        "id": "YyazHiVNlyAd"
      },
      "execution_count": 67,
      "outputs": []
    },
    {
      "cell_type": "markdown",
      "source": [
        "# Testing Agent Interaction"
      ],
      "metadata": {
        "id": "NndmZae1l8Me"
      }
    },
    {
      "cell_type": "code",
      "source": [
        "import asyncio\n",
        "from google.genai import types"
      ],
      "metadata": {
        "id": "K6ios4XXpSxJ"
      },
      "execution_count": 19,
      "outputs": []
    },
    {
      "cell_type": "code",
      "source": [
        "prompt = \"Plan a trip to Paris for 5 days\"\n",
        "\n",
        "final_response_text = \"Agent did not produce a final response.\"\n",
        "\n",
        "\n",
        "\n",
        "async def process_response(prompt):\n",
        "\n",
        "    content = types.Content(role='user', parts=[types.Part(text=prompt)])\n",
        "\n",
        "    async for event in runner.run_async(user_id=USER_ID, session_id=SESSION_ID, new_message=content):\n",
        "        if event.is_final_response():\n",
        "            if event.content and event.content.parts:\n",
        "                global final_response_text\n",
        "                final_response_text = event.content.parts[0].text\n",
        "\n",
        "await process_response(prompt)\n"
      ],
      "metadata": {
        "id": "eZlCf8fXmBuY"
      },
      "execution_count": 68,
      "outputs": []
    },
    {
      "cell_type": "code",
      "source": [
        "from IPython.display import display, Markdown\n",
        "\n",
        "display(Markdown(final_response_text))"
      ],
      "metadata": {
        "colab": {
          "base_uri": "https://localhost:8080/",
          "height": 179
        },
        "id": "Gss1BQcwrk29",
        "outputId": "4b6c9b77-67e0-4985-da27-6ebe4ff87a0d"
      },
      "execution_count": 69,
      "outputs": [
        {
          "output_type": "display_data",
          "data": {
            "text/plain": [
              "<IPython.core.display.Markdown object>"
            ],
            "text/markdown": "I understand you'd like me to plan a 5-day trip to Paris.  However, to do so effectively, I need more information from you.  Please tell me:\n\n1. **Your travel dates:**  When are you planning to go to Paris?  This significantly impacts flight and hotel prices and availability.\n2. **Your budget:** What is your approximate budget for the entire trip, including flights, accommodation, activities, and food?\n3. **Your travel style:** Are you looking for a luxurious trip, a budget-friendly adventure, a romantic getaway, a family vacation, or something else?\n4. **Your interests:** What are you most interested in seeing and doing in Paris? (e.g., museums, historical sites, shopping, nightlife, food, etc.)\n5. **Who are you traveling with?**  Are you traveling solo, with a partner, family, or friends?\n\nOnce I have this information, I can start creating a detailed itinerary for your 5-day trip to Paris.\n"
          },
          "metadata": {}
        }
      ]
    },
    {
      "cell_type": "code",
      "source": [
        "prompt = \"\"\"\n",
        "Travel date - August 4,\n",
        "Budget - 100000,\n",
        "Travel style - budget friendly,\n",
        "interests - nightlife,\n",
        "travel companions - none,\n",
        "\"\"\"\n",
        "\n",
        "final_response_text = \"Agent did not produce a final response.\"\n",
        "\n",
        "await process_response(prompt)\n",
        "\n",
        "display(Markdown(final_response_text))"
      ],
      "metadata": {
        "colab": {
          "base_uri": "https://localhost:8080/",
          "height": 335
        },
        "id": "l-FMBCqk6gJi",
        "outputId": "f62c8432-2652-419f-ef25-e465f7ff68e1"
      },
      "execution_count": 70,
      "outputs": [
        {
          "output_type": "display_data",
          "data": {
            "text/plain": [
              "<IPython.core.display.Markdown object>"
            ],
            "text/markdown": "Okay, a budget-friendly solo trip to Paris focusing on nightlife from August 4th with a $100,000 budget.  That's a very generous budget for a solo trip!  We can make this excellent.\n\nTo proceed, I need one more crucial piece of information:\n\n* **Your departure city:** Knowing your departure city will allow me to find suitable and cost-effective flight options.\n\nOnce you provide your departure city, I will:\n\n1. **Suggest flight options:** I'll look for flights that align with your budget, considering whether you'd prefer a standard or potentially a business class flight given the budget.\n2. **Recommend accommodation:**  We can find a well-located, charming hotel or Airbnb in areas known for vibrant nightlife (Le Marais, Canal Saint-Martin, Latin Quarter).\n3. **Create a nightlife itinerary:**  To tailor this best, tell me what *kind* of nightlife you enjoy (e.g., live music, clubs, bars, speakeasies, specific genres of music).  I'll then suggest specific venues.\n4. **Suggest daytime activities:** Even with a nightlife focus, we'll include some daytime activities to avoid burnout.  These could be free or low-cost options like walking tours or visiting free museums on certain days.\n5. **Plan your food:** I'll incorporate a mix of affordable and delicious meals, from casual bistros to occasional nicer dinners.\n\nLet's get that departure city, and we can start crafting your amazing Parisian adventure!\n"
          },
          "metadata": {}
        }
      ]
    },
    {
      "cell_type": "code",
      "source": [
        "prompt = \"\"\"\n",
        "i will be departing from Mumbai and I would like to return after a week from my departure.\n",
        "prepare the travel plan with this information. you can skip remaining questions\n",
        "\"\"\"\n",
        "\n",
        "final_response_text = \"Agent did not produce a final response.\"\n",
        "\n",
        "await process_response(prompt)\n",
        "\n",
        "display(Markdown(final_response_text))"
      ],
      "metadata": {
        "colab": {
          "base_uri": "https://localhost:8080/",
          "height": 813
        },
        "id": "ZwMB4icZ_9B5",
        "outputId": "c6d9b522-b8b9-4c19-d18a-b12aa0ce80f2"
      },
      "execution_count": 72,
      "outputs": [
        {
          "output_type": "display_data",
          "data": {
            "text/plain": [
              "<IPython.core.display.Markdown object>"
            ],
            "text/markdown": "Okay, here's a draft plan for your 5-day/6-night trip to Paris departing from Mumbai on August 4th and returning on August 10th, focusing on nightlife with a budget of $100,000.  Remember this is a *draft* and can be refined once we have confirmed flight and accommodation bookings.  Prices are estimates and may vary.\n\n\n**Flights (Estimated $1500 - $5000):**\n\n* I recommend checking flight comparison websites (e.g., Google Flights, Skyscanner, Kayak) for flights from Mumbai (BOM) to Paris (CDG or ORY).  Given your budget, you could explore options with premium economy or business class for increased comfort on the long journey.  The exact cost will depend on the specific dates and availability.\n\n**Accommodation (Estimated $100 - $500 per night):**\n\n* **Option 1 (Budget-friendly):**  A well-located Airbnb in Le Marais, Canal Saint-Martin, or the Latin Quarter.  These areas offer excellent nightlife and good access to public transportation.\n* **Option 2 (Mid-range):**  A charming boutique hotel in the same areas.\n* **Option 3 (Luxury -  only if significant budget remains after flights):** A higher-end hotel.\n\n\n**Nightlife Itinerary (Example - customizable):**\n\n* **Night 1:** Explore the bars and clubs around Canal Saint-Martin (known for its trendy and youthful vibe).\n* **Night 2:** Check out live music venues in the Latin Quarter or Le Marais. (Research specific venues based on your preferred genres.)\n* **Night 3:** Experience a more upscale cocktail bar in Le Marais or the Saint-Germain-des-Prés district.\n* **Night 4:** Discover hidden speakeasies (research beforehand for recommendations).\n* **Night 5:** Relax and enjoy a wine bar with a view of the city.\n* **Night 6 (Departure Day):** Enjoy a final Parisian breakfast before heading to the airport.\n\n**Daytime Activities (Example):**\n\n* **Day 1:** Arrive in Paris, check into your accommodation, and take a leisurely walk to familiarize yourself with your surroundings.\n* **Day 2:** Explore the Louvre Museum (or another museum of your interest), followed by a picnic in the Tuileries Garden.\n* **Day 3:** Visit Montmartre, explore the Sacré-Cœur Basilica, and enjoy the artistic atmosphere.\n* **Day 4:**  Take a boat tour on the Seine River, followed by exploring a specific district or neighborhood based on your interest.\n* **Day 5:**  Visit a market, do some souvenir shopping, or relax in a park before heading to the airport.\n\n\n**Food (Estimated $50 - $150 per day):**\n\n* Mix of casual bistros, street food, and occasional nicer restaurants.\n\n**Transportation:**\n\n* Utilize the efficient and affordable Paris Metro system.\n\n**Total Estimated Cost (excluding flights):**  $500 (accommodation) + $750 (food) + $300 (activities and transport) = $1550  This is a *rough estimate*, and the actual cost will vary based on your choices.\n\n**Next Steps:**\n\n1. **Book Flights:** Use online comparison sites to find flights that fit your budget and schedule.\n2. **Book Accommodation:**  Reserve your Airbnb or hotel based on your preferred style and location.\n3. **Research Nightlife Venues:**  Explore options based on your preferences (music genres, atmosphere).\n4. **Plan Daytime Activities:**  Research museums, parks, and attractions that interest you.\n\nThis is a flexible plan. We can refine it further once you've booked flights and accommodation.  Remember, your generous budget allows for flexibility and potentially higher-end experiences if desired. Let me know if you'd like any adjustments or further details.\n"
          },
          "metadata": {}
        }
      ]
    }
  ]
}